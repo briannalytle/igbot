{
 "cells": [
  {
   "cell_type": "markdown",
   "metadata": {},
   "source": [
    "https://www.youtube.com/watch?v=BGU2X5lrz9M"
   ]
  },
  {
   "cell_type": "code",
   "execution_count": null,
   "metadata": {},
   "outputs": [],
   "source": [
    "class InstagramBot:\n",
    "    def __init__(self, username, password):\n",
    "        self.username = username\n",
    "        self.password = password\n",
    "        self.driver = webdriver.Firefox()\n",
    "        \n",
    "    #logout method\n",
    "    def closeBrowser(self):\n",
    "        self.driver.close()\n",
    "        \n",
    "    #login function\n",
    "    def login(self):\n",
    "        driver = self.driver\n",
    "        driver.get(\"https://instagram.com\")\n",
    "        time.sleep(2)\n",
    "        login_button = driver.find_element_by_xpath(\"//a[@href='accounts/login/']\")\n",
    "        login_button.click()\n",
    "        time.sleep(2)\n",
    "        user_name_elem = driver.find_element_by_xpath(\"//input[@name='username']\")\n",
    "        user_name_elem.clear()\n",
    "        user_name_elem.send_keys(self.username)\n",
    "        password_elem = driver.find_element_byxpath(\"//input[@name='password']\")\n",
    "        password_elem.clear()\n",
    "        password_elem.send_keys(self.password)\n",
    "        password_elem.send_keys(Keys.RETURN)\n",
    "        time.sleep(2)\n",
    "        \n",
    "    def like_photo(self, hashtag):\n",
    "        driver = self.driver\n",
    "        driver.get(\"https://instagram.com/explor/tags\" + hashtag + \"/\")\n",
    "        time.sleep(2)\n",
    "        #simulate scrolling down the webpage\n",
    "        for i in range(1,3):\n",
    "            driver.execute_script(\"window.scrollTo(0, document.body.scrollHeight);\")\n",
    "            time.sleep(2)\n",
    "            \n",
    "        #searching for picture link\n",
    "        hrefs = driver.find_element_by_tag_name('a')\n",
    "        pic_hrefs = [elem.get_attribute('href') for elem in hrefs]\n",
    "        pic_hrefs = [href for href in pic_hrefs if hahtag in href]\n",
    "        print(hashtag + ' photos: ' + str(len(pic_hrefs)))\n",
    "        \n",
    "        for pic_href in pic_hrefs:\n",
    "            driver.get(pic_href)\n",
    "            driver.execute_script(\"window.scrollTo(0, document.body.scrollHeight);\")\n",
    "            try:\n",
    "                driver.find_element_by_link_text(\"Like\").click()\n",
    "                time.sleep(18) #200 pics for hour which is instagrams limit.\n",
    "            except Exception as e:\n",
    "                time.sleep(2)\n",
    "        \n",
    "        \n",
    "\n",
    "        \n",
    "andreyIG = InstagramBot(\"awesomepossome\", \"password\")\n",
    "andreyIG.login()"
   ]
  }
 ],
 "metadata": {
  "kernelspec": {
   "display_name": "Python 3",
   "language": "python",
   "name": "python3"
  },
  "language_info": {
   "codemirror_mode": {
    "name": "ipython",
    "version": 3
   },
   "file_extension": ".py",
   "mimetype": "text/x-python",
   "name": "python",
   "nbconvert_exporter": "python",
   "pygments_lexer": "ipython3",
   "version": "3.7.4"
  }
 },
 "nbformat": 4,
 "nbformat_minor": 2
}
