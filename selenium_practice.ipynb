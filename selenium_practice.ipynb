{
 "cells": [
  {
   "cell_type": "code",
   "execution_count": 1,
   "metadata": {},
   "outputs": [],
   "source": [
    "import numpy as np\n",
    "import pandas as pd\n",
    "import json\n",
    "\n",
    "from bs4 import BeautifulSoup\n",
    "from selenium import webdriver\n",
    "from time import sleep\n",
    "from selenium.webdriver.common.keys import Keys\n",
    "from selenium.common import exceptions\n",
    "\n",
    "from random import randint\n",
    "import random"
   ]
  },
  {
   "cell_type": "code",
   "execution_count": 2,
   "metadata": {},
   "outputs": [],
   "source": [
    "from instapy import InstaPy"
   ]
  },
  {
   "cell_type": "code",
   "execution_count": 3,
   "metadata": {},
   "outputs": [],
   "source": [
    "#open a browser with login credentials\n",
    "#for every hashtag in the hashtag list, it will open the page and click the first picture to open it\n",
    "#it will then like, follow, comment and move to the next picture - \n",
    "#save a list of all the users you followed using the bot"
   ]
  },
  {
   "cell_type": "markdown",
   "metadata": {},
   "source": [
    "# Logging into Instagram"
   ]
  },
  {
   "cell_type": "markdown",
   "metadata": {},
   "source": [
    "work on followers list with Finsta"
   ]
  },
  {
   "cell_type": "code",
   "execution_count": 2,
   "metadata": {},
   "outputs": [
    {
     "data": {
      "text/plain": [
       "{'username': '', 'password': ''}"
      ]
     },
     "execution_count": 2,
     "metadata": {},
     "output_type": "execute_result"
    }
   ],
   "source": [
    "#json with credits\n",
    "g_creds = {\n",
    "    'username' : '',\n",
    "    'password' : ''\n",
    "}\n",
    "g_creds"
   ]
  },
  {
   "cell_type": "code",
   "execution_count": 3,
   "metadata": {},
   "outputs": [],
   "source": [
    "creds_file = open('creds.json', 'r')\n",
    "g_creds = json.loads(creds_file.read())"
   ]
  },
  {
   "cell_type": "code",
   "execution_count": 4,
   "metadata": {},
   "outputs": [
    {
     "data": {
      "text/plain": [
       "'fr1edbananaz'"
      ]
     },
     "execution_count": 4,
     "metadata": {},
     "output_type": "execute_result"
    }
   ],
   "source": [
    "g_creds['username']"
   ]
  },
  {
   "cell_type": "code",
   "execution_count": 8,
   "metadata": {},
   "outputs": [],
   "source": [
    "hashtags = ['banana', 'recipies', 'olympics', 'datascience', 'coding', 'cooking', 'gardens', 'dogs',\n",
    "              'gym', 'workouts', 'sprinting', 'trackandfield', 'running']\n",
    "\n",
    "#comment list\n",
    "comment_list = ['Love this! :)',\n",
    "               'supercool',\n",
    "               'So cute!',\n",
    "               'I love this! :)',\n",
    "               'This is amazing.',\n",
    "               'Sick picture',\n",
    "               'Love your content',\n",
    "               'THIS is AWESOME']\n",
    "\n",
    "#gathering usernames\n",
    "liked_usernames = []"
   ]
  },
  {
   "cell_type": "code",
   "execution_count": 10,
   "metadata": {
    "scrolled": true
   },
   "outputs": [],
   "source": [
    "#logging in\n",
    "ig_login = 'https://www.instagram.com'\n",
    "driver = webdriver.Chrome(executable_path=\"chromedriver/windows/chromedriver.exe\")\n",
    "sleep(2)\n",
    "driver.get(ig_login)\n",
    "sleep(3)\n",
    "\n",
    "user_space = driver.find_element_by_name('username')\n",
    "user_space.send_keys(g_creds['username'])\n",
    "pass_space = driver.find_element_by_name('password')\n",
    "pass_space.send_keys(g_creds['password'])\n",
    "\n",
    "button = driver.find_element_by_xpath('//*[@id=\"react-root\"]/section/main/article/div[2]/div[1]/div/form/div[4]/button/div')\n",
    "button.click()\n",
    "sleep(5)\n",
    "\n",
    "home_button = driver.find_element_by_xpath('//*[@id=\"react-root\"]/section/nav/div[2]/div/div/div[3]/div/div[1]/div/a')\n",
    "home_button.click()\n",
    "sleep(2)\n",
    "\n",
    "not_now_lg = driver.find_element_by_xpath('/html/body/div[4]/div/div/div/div[3]/button[2]')\n",
    "not_now_lg.click()\n",
    "\n",
    "#finding a specific hashtag\n",
    "search_word = driver.get('https://www.instagram.com/explore/tags/' + random.choice(hashtags) + '/')\n",
    "sleep(4)\n",
    "\n",
    "first_sq = driver.find_element_by_xpath('//*[@id=\"react-root\"]/section/main/article/div[1]/div/div/div[1]/div[1]/a')\n",
    "sleep(2)\n",
    "first_sq.click()\n",
    "sleep(2)\n",
    "\n",
    "for i in range(20):\n",
    "    driver.find_element_by_xpath(\"//span[@class='fr66n']\").click() #like photo\n",
    "    sleep(randint(2,6))\n",
    "    #comment box\n",
    "    try:\n",
    "        comment_box = driver.find_element_by_class_name('Ypffh')\n",
    "        comment_box.click()\n",
    "        sleep(2)\n",
    "        comment_box = driver.find_element_by_class_name('Ypffh') #learned this trick from stackoverflow\n",
    "        comment_box.send_keys(random.choice(comment_list)) #random comment from list\n",
    "        driver.find_element_by_xpath('/html/body/div[4]/div[2]/div/article/div[2]/section[3]/div/form/button').click() #submit comment\n",
    "        sleep(2)\n",
    "        #grabbing username\n",
    "        username = driver.find_element_by_xpath('/html/body/div[4]/div[2]/div/article/header/div[2]/div[1]/div[1]/div/a').text\n",
    "        liked_usernames.append(username)\n",
    "        sleep(randint(2,6))\n",
    "    except:\n",
    "        pass\n",
    "    #grabbing username\n",
    "    driver.find_element_by_link_text('Next').click()\n",
    "    sleep(randint(2,6))\n"
   ]
  },
  {
   "cell_type": "code",
   "execution_count": 11,
   "metadata": {},
   "outputs": [
    {
     "data": {
      "text/plain": [
       "['tarunbhati007',\n",
       " 'pjcycle',\n",
       " 'jusalgado__',\n",
       " '_runqueen_',\n",
       " 'giliade.marques',\n",
       " 'nuvole_di_parole',\n",
       " 'thebestrunnerss',\n",
       " 'tessachessa',\n",
       " 'go_yova',\n",
       " 'london_construction_pro',\n",
       " 'jsh_runs',\n",
       " 'milano_gifts',\n",
       " 'zaisyashop',\n",
       " 'rapha_cavallcante',\n",
       " 'fussneki.info',\n",
       " 'martakijanska',\n",
       " 'reena_baisaa',\n",
       " 'gmoyajp',\n",
       " 'helenbulkeley']"
      ]
     },
     "execution_count": 11,
     "metadata": {},
     "output_type": "execute_result"
    }
   ],
   "source": [
    "liked_usernames"
   ]
  },
  {
   "cell_type": "markdown",
   "metadata": {},
   "source": [
    "Notes:\n",
    "- Next steps:\n",
    "- follow each account\n",
    "- Make a list of user photos that we have liked. \n",
    "- Attempt to follow each account, grab that usename, and put it in a list.\n",
    "- the goal is to take the liked usernames list and combine it with a second column that will be the designated username\n",
    "\n",
    "Stretch goals:\n",
    "- keep track of each user where we liked their photo and the hashtag that was associated with that liked photo. \n",
    "\n",
    "\n",
    "Things to work through:\n",
    "- some posts do not allow comments. The error thrown is \"NoSuchElementException: Message: no such element: Unable to locate element: {\"method\":\"class name\",\"selector\":\"Ypffh\"}\n",
    "  (Session info: chrome=83.0.4103.116)\n",
    "  (Driver info: chromedriver=2.41.578737 (49da6702b16031c40d63e5618de03a32ff6c197e),platform=Windows NT 10.0.18362 x86_64)\"\n",
    "  - we will have to make a try/except statement to fix this issue\n",
    "Part of the function will (1) follow each user where we liked their photos, (2) add that user photo to a list where we will track the username and the hashtag associated with that like. This can be used for a future project. \n",
    "\n",
    "\n",
    "More to add to the code:\n",
    "- write a script that will track the number of followers in the main account that is being used as a bot. We can check \n",
    "    - the number of followers everyday\n",
    "    - the list of followers that I have. Check that list everyday to determine how many new followers (new usernames) are there and how many followers were lost (names in the list before but werent in the list during the scrape)\n",
    "    \n",
    "    \n",
    "Fun things to check:\n",
    "- mean likes per hashtag\n",
    "- posts with the highest metrics\n",
    "- If decided to follow accounts, keep a list of the usernames. I can also create a dictionary to determine how many times an account should be followered"
   ]
  },
  {
   "cell_type": "code",
   "execution_count": null,
   "metadata": {},
   "outputs": [],
   "source": [
    "#future loop for hashtags\n",
    "hashtags = ['banana', 'recipies', 'shoes', 'mua', 'thirdeye', 'buddha', 'coding', 'cooking', 'gardens', 'dogs',\n",
    "              'gym', 'workouts', 'sprinting', 'trackandfield', 'running']\n",
    "for tags in hashtags:\n",
    "    search_word = driver.get('https://www.instagram.com/explore/tags/' + tags + '/')\n",
    "    #put rest of code here\n",
    "    \n",
    "    #creating dataframe \n",
    "    "
   ]
  },
  {
   "cell_type": "code",
   "execution_count": null,
   "metadata": {},
   "outputs": [],
   "source": [
    "# #looking at span\n",
    "# button_like = driver.find_element_by_xpath(\"//span[@class='fr66n']\")\n",
    "# button_like.click()"
   ]
  },
  {
   "cell_type": "markdown",
   "metadata": {},
   "source": [
    "Note:\n",
    "- When clicking through photos, the find element by xpath method is great for the first click, but once it goes to the second photo, that same xpath then represents the left arrow button which would go to the first photo"
   ]
  },
  {
   "cell_type": "code",
   "execution_count": null,
   "metadata": {},
   "outputs": [],
   "source": [
    "#finding a specific hashtag\n",
    "search_word = driver.get('https://www.instagram.com/explore/tags/' + 'running' + '/')\n",
    "sleep(4)\n",
    "\n",
    "\n",
    "first_sq = driver.find_element_by_xpath('//*[@id=\"react-root\"]/section/main/article/div[1]/div/div/div[1]/div[1]/a')\n",
    "sleep(2)\n",
    "first_sq.click()\n",
    "next_arrow = driver.find_element_by_xpath('/html/body/div[4]/div[1]/div/div/a')\n",
    "sleep(2)\n",
    "next_arrow.click()"
   ]
  },
  {
   "cell_type": "code",
   "execution_count": null,
   "metadata": {},
   "outputs": [],
   "source": [
    "#scrolling - this executes it 3 times in a row to create more space on elements on the page\n",
    "#find the body element to send keys to\n",
    "body_elem = driver.find_element_by_tag_name('body')\n",
    "#move up and down to load new images -\n",
    "for _ in range(3):\n",
    "    body_elem.send_keys(Keys.END)\n",
    "    sleep(2)\n",
    "    body_elem.send_keys(Keys.HOME)\n",
    "    sleep(2)"
   ]
  },
  {
   "cell_type": "code",
   "execution_count": 42,
   "metadata": {},
   "outputs": [],
   "source": [
    "hashtag_one = 'adidasrunners'"
   ]
  },
  {
   "cell_type": "code",
   "execution_count": null,
   "metadata": {},
   "outputs": [],
   "source": [
    "hashtagsearch = 'https://www.instagram.com/explore/tags/' + hashtag_one\n",
    "driver.get(hashtagsearch)"
   ]
  },
  {
   "cell_type": "code",
   "execution_count": null,
   "metadata": {},
   "outputs": [],
   "source": [
    "search_bar = driver.find_element_by_placeholder('Search')\n",
    "search_bar.send_keys(hashtag_one)"
   ]
  }
 ],
 "metadata": {
  "kernelspec": {
   "display_name": "Python 3",
   "language": "python",
   "name": "python3"
  },
  "language_info": {
   "codemirror_mode": {
    "name": "ipython",
    "version": 3
   },
   "file_extension": ".py",
   "mimetype": "text/x-python",
   "name": "python",
   "nbconvert_exporter": "python",
   "pygments_lexer": "ipython3",
   "version": "3.7.4"
  }
 },
 "nbformat": 4,
 "nbformat_minor": 2
}
