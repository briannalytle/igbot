{
 "cells": [
  {
   "cell_type": "code",
   "execution_count": 1,
   "metadata": {},
   "outputs": [],
   "source": [
    "import numpy as np\n",
    "import pandas as pd\n",
    "import json\n",
    "\n",
    "from bs4 import BeautifulSoup\n",
    "from selenium import webdriver\n",
    "from time import sleep\n",
    "from selenium.webdriver.common.keys import Keys\n",
    "from selenium.common import exceptions\n",
    "\n",
    "from random import randint\n"
   ]
  },
  {
   "cell_type": "code",
   "execution_count": 2,
   "metadata": {},
   "outputs": [],
   "source": [
    "from instapy import InstaPy"
   ]
  },
  {
   "cell_type": "code",
   "execution_count": 3,
   "metadata": {},
   "outputs": [],
   "source": [
    "#open a browser with login credentials\n",
    "#for every hashtag in the hashtag list, it will open the page and click the first picture to open it\n",
    "#it will then like, follow, comment and move to the next picture - \n",
    "#save a list of all the users you followed using the bot"
   ]
  },
  {
   "cell_type": "markdown",
   "metadata": {},
   "source": [
    "# Logging into Instagram"
   ]
  },
  {
   "cell_type": "code",
   "execution_count": 2,
   "metadata": {},
   "outputs": [
    {
     "data": {
      "text/plain": [
       "{'username': '', 'password': ''}"
      ]
     },
     "execution_count": 2,
     "metadata": {},
     "output_type": "execute_result"
    }
   ],
   "source": [
    "#json with credits\n",
    "g_creds = {\n",
    "    'username' : '',\n",
    "    'password' : ''\n",
    "}\n",
    "g_creds"
   ]
  },
  {
   "cell_type": "code",
   "execution_count": 3,
   "metadata": {},
   "outputs": [],
   "source": [
    "creds_file = open('creds.json', 'r')\n",
    "g_creds = json.loads(creds_file.read())"
   ]
  },
  {
   "cell_type": "code",
   "execution_count": 4,
   "metadata": {},
   "outputs": [
    {
     "data": {
      "text/plain": [
       "'_briannalytle'"
      ]
     },
     "execution_count": 4,
     "metadata": {},
     "output_type": "execute_result"
    }
   ],
   "source": [
    "g_creds['username']"
   ]
  },
  {
   "cell_type": "code",
   "execution_count": 7,
   "metadata": {},
   "outputs": [
    {
     "ename": "SyntaxError",
     "evalue": "invalid syntax (<ipython-input-7-c3c5d7e7da8e>, line 2)",
     "output_type": "error",
     "traceback": [
      "\u001b[1;36m  File \u001b[1;32m\"<ipython-input-7-c3c5d7e7da8e>\"\u001b[1;36m, line \u001b[1;32m2\u001b[0m\n\u001b[1;33m    def(ig_login)\u001b[0m\n\u001b[1;37m       ^\u001b[0m\n\u001b[1;31mSyntaxError\u001b[0m\u001b[1;31m:\u001b[0m invalid syntax\n"
     ]
    }
   ],
   "source": [
    "ig_login = 'https://www.instagram.com'\n",
    "def(ig_login)"
   ]
  },
  {
   "cell_type": "code",
   "execution_count": 17,
   "metadata": {
    "scrolled": true
   },
   "outputs": [],
   "source": [
    "#logging in\n",
    "ig_login = 'https://www.instagram.com'\n",
    "driver = webdriver.Chrome(executable_path=\"chromedriver/windows/chromedriver.exe\")\n",
    "sleep(2)\n",
    "driver.get(ig_login)\n",
    "sleep(3)\n",
    "\n",
    "user_space = driver.find_element_by_name('username')\n",
    "user_space.send_keys(g_creds['username'])\n",
    "pass_space = driver.find_element_by_name('password')\n",
    "pass_space.send_keys(g_creds['password'])\n",
    "\n",
    "button = driver.find_element_by_xpath('//*[@id=\"react-root\"]/section/main/article/div[2]/div[1]/div/form/div[4]/button/div')\n",
    "button.click()\n",
    "sleep(5)\n",
    "\n",
    "home_button = driver.find_element_by_xpath('//*[@id=\"react-root\"]/section/nav/div[2]/div/div/div[3]/div/div[1]/div/a')\n",
    "home_button.click()\n",
    "sleep(2)\n",
    "\n",
    "not_now_lg = driver.find_element_by_xpath('/html/body/div[4]/div/div/div/div[3]/button[2]')\n",
    "not_now_lg.click()\n",
    "\n",
    "#finding a specific hashtag\n",
    "search_word = driver.get('https://www.instagram.com/explore/tags/' + 'newyork' + '/')\n",
    "sleep(4)\n",
    "\n",
    "first_sq = driver.find_element_by_xpath('//*[@id=\"react-root\"]/section/main/article/div[1]/div/div/div[1]/div[1]/a')\n",
    "sleep(2)\n",
    "first_sq.click()\n",
    "sleep(2)\n",
    "\n",
    "# #looking at span\n",
    "# button_like = driver.find_element_by_xpath(\"//span[@class='fr66n']\")\n",
    "# button_like.click()\n",
    "\n",
    "#commenting on photo\n",
    "comment_box = driver.find_element_by_class_name('Ypffh')\n",
    "comment_box.click()\n",
    "sleep(2)\n",
    "comment_box = driver.find_element_by_class_name('Ypffh') #learned this trick from stackoverflow\n",
    "comment_box.send_keys('Love this :)')\n",
    "sleep(2)\n",
    "driver.find_element_by_xpath('/html/body/div[4]/div[2]/div/article/div[2]/section[3]/div/form/button').click()\n",
    "sleep(2)\n",
    "\n",
    "driver.find_element_by_link_text('Next').click()"
   ]
  },
  {
   "cell_type": "markdown",
   "metadata": {},
   "source": [
    "Notes:\n",
    "- Next steps:\n",
    "- Make of list of a variety of commenting features and have the bot randomly choose from that list to use. This is so that we don't use the same comment on every photo. Variety matters \n",
    "- Make a list of user photos that we have liked. \n",
    "- Attempt to follow each account, grab that usename, and put it in a list. \n",
    "\n",
    "Stretch goals:\n",
    "- keep track of each user where we liked their photo and the hashtag that was associated with that liked photo. \n",
    "\n",
    "\n",
    "\n",
    "Part of the function will (1) follow each user where we liked their photos, (2) add that user photo to a list where we will track the username and the hashtag associated with that like. This can be used for a future project. "
   ]
  },
  {
   "cell_type": "code",
   "execution_count": null,
   "metadata": {},
   "outputs": [],
   "source": [
    "#click through of hashtag page to like photos\n",
    "for i in range(1, 10):\n",
    "    "
   ]
  },
  {
   "cell_type": "code",
   "execution_count": null,
   "metadata": {},
   "outputs": [],
   "source": [
    "//span[@class='wpO6b ']"
   ]
  },
  {
   "cell_type": "code",
   "execution_count": null,
   "metadata": {},
   "outputs": [],
   "source": [
    "#clicking through photos\n",
    "for i in range(20):\n",
    "    driver.find_element_by_xpath(\"//span[@class='fr66n']\").click()\n",
    "    sleep(randint(2,6))\n",
    "    driver.find_element_by_link_text('Next').click()\n",
    "    sleep(randint(2,6))"
   ]
  },
  {
   "cell_type": "code",
   "execution_count": null,
   "metadata": {},
   "outputs": [],
   "source": [
    "#checking for different xpaths of like button\n",
    "Pic 1\n",
    "/html/body/div[4]/div[2]/div/article/div[2]/section[1]/span[1]/button\n",
    "\n",
    "Pic 2\n",
    "/html/body/div[4]/div[2]/div/article/div[2]/section[1]/span[1]/button"
   ]
  },
  {
   "cell_type": "code",
   "execution_count": null,
   "metadata": {},
   "outputs": [],
   "source": []
  },
  {
   "cell_type": "code",
   "execution_count": null,
   "metadata": {},
   "outputs": [],
   "source": [
    "#clicking through photos\n",
    "for i in range(10):\n",
    "    driver.find_element_by_link_text('Next').click()\n",
    "    sleep(randint(2,6))"
   ]
  },
  {
   "cell_type": "markdown",
   "metadata": {},
   "source": [
    "Note:\n",
    "- When clicking through photos, the find element by xpath method is great for the first click, but once it goes to the second photo, that same xpath then represents the left arrow button which would go to the first photo"
   ]
  },
  {
   "cell_type": "code",
   "execution_count": null,
   "metadata": {},
   "outputs": [],
   "source": [
    "#need to figure out how to like a photo"
   ]
  },
  {
   "cell_type": "code",
   "execution_count": null,
   "metadata": {},
   "outputs": [],
   "source": [
    "#finding a specific hashtag\n",
    "search_word = driver.get('https://www.instagram.com/explore/tags/' + 'running' + '/')\n",
    "sleep(4)\n",
    "\n",
    "\n",
    "first_sq = driver.find_element_by_xpath('//*[@id=\"react-root\"]/section/main/article/div[1]/div/div/div[1]/div[1]/a')\n",
    "sleep(2)\n",
    "first_sq.click()\n",
    "next_arrow = driver.find_element_by_xpath('/html/body/div[4]/div[1]/div/div/a')\n",
    "sleep(2)\n",
    "next_arrow.click()"
   ]
  },
  {
   "cell_type": "code",
   "execution_count": null,
   "metadata": {},
   "outputs": [],
   "source": [
    "#scrolling - this executes it 3 times in a row to create more space on elements on the page\n",
    "#find the body element to send keys to\n",
    "body_elem = driver.find_element_by_tag_name('body')\n",
    "#move up and down to load new images -\n",
    "for _ in range(3):\n",
    "    body_elem.send_keys(Keys.END)\n",
    "    sleep(2)\n",
    "    body_elem.send_keys(Keys.HOME)\n",
    "    sleep(2)"
   ]
  },
  {
   "cell_type": "code",
   "execution_count": 42,
   "metadata": {},
   "outputs": [],
   "source": [
    "hashtag_one = 'adidasrunners'"
   ]
  },
  {
   "cell_type": "code",
   "execution_count": null,
   "metadata": {},
   "outputs": [],
   "source": [
    "hashtagsearch = 'https://www.instagram.com/explore/tags/' + hashtag_one\n",
    "driver.get(hashtagsearch)"
   ]
  },
  {
   "cell_type": "code",
   "execution_count": null,
   "metadata": {},
   "outputs": [],
   "source": [
    "search_bar = driver.find_element_by_placeholder('Search')\n",
    "search_bar.send_keys(hashtag_one)"
   ]
  }
 ],
 "metadata": {
  "kernelspec": {
   "display_name": "Python 3",
   "language": "python",
   "name": "python3"
  },
  "language_info": {
   "codemirror_mode": {
    "name": "ipython",
    "version": 3
   },
   "file_extension": ".py",
   "mimetype": "text/x-python",
   "name": "python",
   "nbconvert_exporter": "python",
   "pygments_lexer": "ipython3",
   "version": "3.7.4"
  }
 },
 "nbformat": 4,
 "nbformat_minor": 2
}
