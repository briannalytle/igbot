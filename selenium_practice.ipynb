{
 "cells": [
  {
   "cell_type": "code",
   "execution_count": 22,
   "metadata": {},
   "outputs": [],
   "source": [
    "import numpy as np\n",
    "import pandas as pd\n",
    "import json\n",
    "\n",
    "from bs4 import BeautifulSoup\n",
    "from selenium import webdriver\n",
    "from time import sleep\n",
    "from selenium.webdriver.common.keys import Keys\n",
    "from selenium.common import exceptions"
   ]
  },
  {
   "cell_type": "code",
   "execution_count": null,
   "metadata": {},
   "outputs": [],
   "source": [
    "#open a browser with login credentials\n",
    "#for every hashtag in the hashtag list, it will open the page and click the first picture to open it\n",
    "#it will then like, follow, comment and move to the next picture - \n",
    "#save a list of all the users you followed using the bot"
   ]
  },
  {
   "cell_type": "markdown",
   "metadata": {},
   "source": [
    "# Logging into Instagram"
   ]
  },
  {
   "cell_type": "code",
   "execution_count": 23,
   "metadata": {},
   "outputs": [
    {
     "data": {
      "text/plain": [
       "{'username': '', 'password': ''}"
      ]
     },
     "execution_count": 23,
     "metadata": {},
     "output_type": "execute_result"
    }
   ],
   "source": [
    "#json with credits\n",
    "g_creds = {\n",
    "    'username' : '',\n",
    "    'password' : ''\n",
    "}\n",
    "creds"
   ]
  },
  {
   "cell_type": "code",
   "execution_count": 24,
   "metadata": {},
   "outputs": [],
   "source": [
    "creds_file = open('creds.json', 'r')\n",
    "g_creds = json.loads(creds_file.read())"
   ]
  },
  {
   "cell_type": "code",
   "execution_count": 25,
   "metadata": {},
   "outputs": [
    {
     "data": {
      "text/plain": [
       "'_briannalytle'"
      ]
     },
     "execution_count": 25,
     "metadata": {},
     "output_type": "execute_result"
    }
   ],
   "source": [
    "g_creds['username']"
   ]
  },
  {
   "cell_type": "code",
   "execution_count": 44,
   "metadata": {},
   "outputs": [],
   "source": [
    "#logging in\n",
    "ig_login = 'https://www.instagram.com/'\n",
    "driver = webdriver.Chrome(executable_path=\"chromedriver/windows/chromedriver.exe\")\n",
    "sleep(2)\n",
    "driver.get(ig_login)\n",
    "sleep(3)\n",
    "\n",
    "user_space = driver.find_element_by_name('username')\n",
    "user_space.send_keys(g_creds['username'])\n",
    "pass_space = driver.find_element_by_name('password')\n",
    "pass_space.send_keys(g_creds['password'])\n",
    "\n",
    "button = driver.find_element_by_xpath('//*[@id=\"react-root\"]/section/main/article/div[2]/div[1]/div/form/div[4]/button/div')\n",
    "button.click()\n",
    "\n",
    "#not now button\n",
    "# notnow = driver.find_element_by_xpath('/html/body/div[1]/section/main/div/div/div/div/button')\n",
    "# notnow.click()\n",
    "\n",
    "hashtag_one = 'adidasrunners'\n",
    "\n",
    "hashtagsearch = 'https://www.instagram.com/explore/tags/' + hashtag_one\n",
    "driver.get(hashtagsearch)"
   ]
  },
  {
   "cell_type": "code",
   "execution_count": 42,
   "metadata": {},
   "outputs": [],
   "source": [
    "hashtag_one = 'adidasrunners'"
   ]
  },
  {
   "cell_type": "code",
   "execution_count": null,
   "metadata": {},
   "outputs": [],
   "source": [
    "hashtagsearch = 'https://www.instagram.com/explore/tags/' + hashtag_one\n",
    "driver.get(hashtagsearch)"
   ]
  },
  {
   "cell_type": "code",
   "execution_count": null,
   "metadata": {},
   "outputs": [],
   "source": [
    "search_bar = driver.find_element_by_placeholder('Search')\n",
    "search_bar.send_keys(hashtag_one)"
   ]
  }
 ],
 "metadata": {
  "kernelspec": {
   "display_name": "Python 3",
   "language": "python",
   "name": "python3"
  },
  "language_info": {
   "codemirror_mode": {
    "name": "ipython",
    "version": 3
   },
   "file_extension": ".py",
   "mimetype": "text/x-python",
   "name": "python",
   "nbconvert_exporter": "python",
   "pygments_lexer": "ipython3",
   "version": "3.7.4"
  }
 },
 "nbformat": 4,
 "nbformat_minor": 2
}
