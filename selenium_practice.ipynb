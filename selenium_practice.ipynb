{
 "cells": [
  {
   "cell_type": "code",
   "execution_count": 1,
   "metadata": {},
   "outputs": [],
   "source": [
    "import numpy as np\n",
    "import pandas as pd\n",
    "import json\n",
    "\n",
    "from bs4 import BeautifulSoup\n",
    "from selenium import webdriver\n",
    "from time import sleep\n",
    "from selenium.webdriver.common.keys import Keys\n",
    "from selenium.common import exceptions\n",
    "\n",
    "from random import randint\n",
    "import random"
   ]
  },
  {
   "cell_type": "code",
   "execution_count": 2,
   "metadata": {},
   "outputs": [],
   "source": [
    "from instapy import InstaPy"
   ]
  },
  {
   "cell_type": "code",
   "execution_count": 3,
   "metadata": {},
   "outputs": [],
   "source": [
    "#open a browser with login credentials\n",
    "#for every hashtag in the hashtag list, it will open the page and click the first picture to open it\n",
    "#it will then like, follow, comment and move to the next picture - \n",
    "#save a list of all the users you followed using the bot"
   ]
  },
  {
   "cell_type": "markdown",
   "metadata": {},
   "source": [
    "# Logging into Instagram"
   ]
  },
  {
   "cell_type": "markdown",
   "metadata": {},
   "source": [
    "work on followers list with Finsta"
   ]
  },
  {
   "cell_type": "code",
   "execution_count": 7,
   "metadata": {},
   "outputs": [
    {
     "data": {
      "text/plain": [
       "{'username': '', 'password': ''}"
      ]
     },
     "execution_count": 7,
     "metadata": {},
     "output_type": "execute_result"
    }
   ],
   "source": [
    "#json with credits\n",
    "g_creds = {\n",
    "    'username' : '',\n",
    "    'password' : ''\n",
    "}\n",
    "g_creds"
   ]
  },
  {
   "cell_type": "code",
   "execution_count": 8,
   "metadata": {},
   "outputs": [],
   "source": [
    "creds_file = open('creds.json', 'r')\n",
    "g_creds = json.loads(creds_file.read())"
   ]
  },
  {
   "cell_type": "code",
   "execution_count": 9,
   "metadata": {},
   "outputs": [
    {
     "data": {
      "text/plain": [
       "'_briannalytle'"
      ]
     },
     "execution_count": 9,
     "metadata": {},
     "output_type": "execute_result"
    }
   ],
   "source": [
    "g_creds['username']"
   ]
  },
  {
   "cell_type": "code",
   "execution_count": 17,
   "metadata": {},
   "outputs": [],
   "source": [
    "hashtags = ['banana', 'recipies', 'olympics', 'datascience', 'coding', 'cooking', 'gardens', 'dogs',\n",
    "              'gym', 'workouts', 'sprinting', 'trackandfield', 'running']\n",
    "\n",
    "#comment list\n",
    "comment_list = ['Love this! :)',\n",
    "               'supercool',\n",
    "               'So cute!',\n",
    "               'I love this! :)',\n",
    "               'This is amazing.',\n",
    "               'Sick picture',\n",
    "               'Love your content',\n",
    "               'THIS is AWESOME']\n",
    "\n",
    "#gathering usernames\n",
    "liked_usernames = []"
   ]
  },
  {
   "cell_type": "code",
   "execution_count": 28,
   "metadata": {
    "scrolled": true
   },
   "outputs": [
    {
     "ename": "NoSuchElementException",
     "evalue": "Message: no such element: Unable to locate element: {\"method\":\"xpath\",\"selector\":\"//span[@class='fr66n']\"}\n  (Session info: chrome=83.0.4103.116)\n  (Driver info: chromedriver=2.41.578737 (49da6702b16031c40d63e5618de03a32ff6c197e),platform=Windows NT 10.0.18362 x86_64)\n",
     "output_type": "error",
     "traceback": [
      "\u001b[1;31m---------------------------------------------------------------------------\u001b[0m",
      "\u001b[1;31mNoSuchElementException\u001b[0m                    Traceback (most recent call last)",
      "\u001b[1;32m<ipython-input-28-05208a13f8d0>\u001b[0m in \u001b[0;36m<module>\u001b[1;34m\u001b[0m\n\u001b[0;32m     38\u001b[0m \u001b[1;33m\u001b[0m\u001b[0m\n\u001b[0;32m     39\u001b[0m \u001b[1;32mfor\u001b[0m \u001b[0mi\u001b[0m \u001b[1;32min\u001b[0m \u001b[0mrange\u001b[0m\u001b[1;33m(\u001b[0m\u001b[1;36m6\u001b[0m\u001b[1;33m)\u001b[0m\u001b[1;33m:\u001b[0m\u001b[1;33m\u001b[0m\u001b[1;33m\u001b[0m\u001b[0m\n\u001b[1;32m---> 40\u001b[1;33m     \u001b[0mdriver\u001b[0m\u001b[1;33m.\u001b[0m\u001b[0mfind_element_by_xpath\u001b[0m\u001b[1;33m(\u001b[0m\u001b[1;34m\"//span[@class='fr66n']\"\u001b[0m\u001b[1;33m)\u001b[0m\u001b[1;33m.\u001b[0m\u001b[0mclick\u001b[0m\u001b[1;33m(\u001b[0m\u001b[1;33m)\u001b[0m \u001b[1;31m#like photo\u001b[0m\u001b[1;33m\u001b[0m\u001b[1;33m\u001b[0m\u001b[0m\n\u001b[0m\u001b[0;32m     41\u001b[0m     \u001b[0msleep\u001b[0m\u001b[1;33m(\u001b[0m\u001b[0mrandint\u001b[0m\u001b[1;33m(\u001b[0m\u001b[1;36m2\u001b[0m\u001b[1;33m,\u001b[0m\u001b[1;36m6\u001b[0m\u001b[1;33m)\u001b[0m\u001b[1;33m)\u001b[0m\u001b[1;33m\u001b[0m\u001b[1;33m\u001b[0m\u001b[0m\n\u001b[0;32m     42\u001b[0m     \u001b[1;31m#comment box\u001b[0m\u001b[1;33m\u001b[0m\u001b[1;33m\u001b[0m\u001b[1;33m\u001b[0m\u001b[0m\n",
      "\u001b[1;32m~\\Anaconda3\\lib\\site-packages\\selenium\\webdriver\\remote\\webdriver.py\u001b[0m in \u001b[0;36mfind_element_by_xpath\u001b[1;34m(self, xpath)\u001b[0m\n\u001b[0;32m    392\u001b[0m             \u001b[0melement\u001b[0m \u001b[1;33m=\u001b[0m \u001b[0mdriver\u001b[0m\u001b[1;33m.\u001b[0m\u001b[0mfind_element_by_xpath\u001b[0m\u001b[1;33m(\u001b[0m\u001b[1;34m'//div/td[1]'\u001b[0m\u001b[1;33m)\u001b[0m\u001b[1;33m\u001b[0m\u001b[1;33m\u001b[0m\u001b[0m\n\u001b[0;32m    393\u001b[0m         \"\"\"\n\u001b[1;32m--> 394\u001b[1;33m         \u001b[1;32mreturn\u001b[0m \u001b[0mself\u001b[0m\u001b[1;33m.\u001b[0m\u001b[0mfind_element\u001b[0m\u001b[1;33m(\u001b[0m\u001b[0mby\u001b[0m\u001b[1;33m=\u001b[0m\u001b[0mBy\u001b[0m\u001b[1;33m.\u001b[0m\u001b[0mXPATH\u001b[0m\u001b[1;33m,\u001b[0m \u001b[0mvalue\u001b[0m\u001b[1;33m=\u001b[0m\u001b[0mxpath\u001b[0m\u001b[1;33m)\u001b[0m\u001b[1;33m\u001b[0m\u001b[1;33m\u001b[0m\u001b[0m\n\u001b[0m\u001b[0;32m    395\u001b[0m \u001b[1;33m\u001b[0m\u001b[0m\n\u001b[0;32m    396\u001b[0m     \u001b[1;32mdef\u001b[0m \u001b[0mfind_elements_by_xpath\u001b[0m\u001b[1;33m(\u001b[0m\u001b[0mself\u001b[0m\u001b[1;33m,\u001b[0m \u001b[0mxpath\u001b[0m\u001b[1;33m)\u001b[0m\u001b[1;33m:\u001b[0m\u001b[1;33m\u001b[0m\u001b[1;33m\u001b[0m\u001b[0m\n",
      "\u001b[1;32m~\\Anaconda3\\lib\\site-packages\\selenium\\webdriver\\remote\\webdriver.py\u001b[0m in \u001b[0;36mfind_element\u001b[1;34m(self, by, value)\u001b[0m\n\u001b[0;32m    976\u001b[0m         return self.execute(Command.FIND_ELEMENT, {\n\u001b[0;32m    977\u001b[0m             \u001b[1;34m'using'\u001b[0m\u001b[1;33m:\u001b[0m \u001b[0mby\u001b[0m\u001b[1;33m,\u001b[0m\u001b[1;33m\u001b[0m\u001b[1;33m\u001b[0m\u001b[0m\n\u001b[1;32m--> 978\u001b[1;33m             'value': value})['value']\n\u001b[0m\u001b[0;32m    979\u001b[0m \u001b[1;33m\u001b[0m\u001b[0m\n\u001b[0;32m    980\u001b[0m     \u001b[1;32mdef\u001b[0m \u001b[0mfind_elements\u001b[0m\u001b[1;33m(\u001b[0m\u001b[0mself\u001b[0m\u001b[1;33m,\u001b[0m \u001b[0mby\u001b[0m\u001b[1;33m=\u001b[0m\u001b[0mBy\u001b[0m\u001b[1;33m.\u001b[0m\u001b[0mID\u001b[0m\u001b[1;33m,\u001b[0m \u001b[0mvalue\u001b[0m\u001b[1;33m=\u001b[0m\u001b[1;32mNone\u001b[0m\u001b[1;33m)\u001b[0m\u001b[1;33m:\u001b[0m\u001b[1;33m\u001b[0m\u001b[1;33m\u001b[0m\u001b[0m\n",
      "\u001b[1;32m~\\Anaconda3\\lib\\site-packages\\selenium\\webdriver\\remote\\webdriver.py\u001b[0m in \u001b[0;36mexecute\u001b[1;34m(self, driver_command, params)\u001b[0m\n\u001b[0;32m    319\u001b[0m         \u001b[0mresponse\u001b[0m \u001b[1;33m=\u001b[0m \u001b[0mself\u001b[0m\u001b[1;33m.\u001b[0m\u001b[0mcommand_executor\u001b[0m\u001b[1;33m.\u001b[0m\u001b[0mexecute\u001b[0m\u001b[1;33m(\u001b[0m\u001b[0mdriver_command\u001b[0m\u001b[1;33m,\u001b[0m \u001b[0mparams\u001b[0m\u001b[1;33m)\u001b[0m\u001b[1;33m\u001b[0m\u001b[1;33m\u001b[0m\u001b[0m\n\u001b[0;32m    320\u001b[0m         \u001b[1;32mif\u001b[0m \u001b[0mresponse\u001b[0m\u001b[1;33m:\u001b[0m\u001b[1;33m\u001b[0m\u001b[1;33m\u001b[0m\u001b[0m\n\u001b[1;32m--> 321\u001b[1;33m             \u001b[0mself\u001b[0m\u001b[1;33m.\u001b[0m\u001b[0merror_handler\u001b[0m\u001b[1;33m.\u001b[0m\u001b[0mcheck_response\u001b[0m\u001b[1;33m(\u001b[0m\u001b[0mresponse\u001b[0m\u001b[1;33m)\u001b[0m\u001b[1;33m\u001b[0m\u001b[1;33m\u001b[0m\u001b[0m\n\u001b[0m\u001b[0;32m    322\u001b[0m             response['value'] = self._unwrap_value(\n\u001b[0;32m    323\u001b[0m                 response.get('value', None))\n",
      "\u001b[1;32m~\\Anaconda3\\lib\\site-packages\\selenium\\webdriver\\remote\\errorhandler.py\u001b[0m in \u001b[0;36mcheck_response\u001b[1;34m(self, response)\u001b[0m\n\u001b[0;32m    240\u001b[0m                 \u001b[0malert_text\u001b[0m \u001b[1;33m=\u001b[0m \u001b[0mvalue\u001b[0m\u001b[1;33m[\u001b[0m\u001b[1;34m'alert'\u001b[0m\u001b[1;33m]\u001b[0m\u001b[1;33m.\u001b[0m\u001b[0mget\u001b[0m\u001b[1;33m(\u001b[0m\u001b[1;34m'text'\u001b[0m\u001b[1;33m)\u001b[0m\u001b[1;33m\u001b[0m\u001b[1;33m\u001b[0m\u001b[0m\n\u001b[0;32m    241\u001b[0m             \u001b[1;32mraise\u001b[0m \u001b[0mexception_class\u001b[0m\u001b[1;33m(\u001b[0m\u001b[0mmessage\u001b[0m\u001b[1;33m,\u001b[0m \u001b[0mscreen\u001b[0m\u001b[1;33m,\u001b[0m \u001b[0mstacktrace\u001b[0m\u001b[1;33m,\u001b[0m \u001b[0malert_text\u001b[0m\u001b[1;33m)\u001b[0m\u001b[1;33m\u001b[0m\u001b[1;33m\u001b[0m\u001b[0m\n\u001b[1;32m--> 242\u001b[1;33m         \u001b[1;32mraise\u001b[0m \u001b[0mexception_class\u001b[0m\u001b[1;33m(\u001b[0m\u001b[0mmessage\u001b[0m\u001b[1;33m,\u001b[0m \u001b[0mscreen\u001b[0m\u001b[1;33m,\u001b[0m \u001b[0mstacktrace\u001b[0m\u001b[1;33m)\u001b[0m\u001b[1;33m\u001b[0m\u001b[1;33m\u001b[0m\u001b[0m\n\u001b[0m\u001b[0;32m    243\u001b[0m \u001b[1;33m\u001b[0m\u001b[0m\n\u001b[0;32m    244\u001b[0m     \u001b[1;32mdef\u001b[0m \u001b[0m_value_or_default\u001b[0m\u001b[1;33m(\u001b[0m\u001b[0mself\u001b[0m\u001b[1;33m,\u001b[0m \u001b[0mobj\u001b[0m\u001b[1;33m,\u001b[0m \u001b[0mkey\u001b[0m\u001b[1;33m,\u001b[0m \u001b[0mdefault\u001b[0m\u001b[1;33m)\u001b[0m\u001b[1;33m:\u001b[0m\u001b[1;33m\u001b[0m\u001b[1;33m\u001b[0m\u001b[0m\n",
      "\u001b[1;31mNoSuchElementException\u001b[0m: Message: no such element: Unable to locate element: {\"method\":\"xpath\",\"selector\":\"//span[@class='fr66n']\"}\n  (Session info: chrome=83.0.4103.116)\n  (Driver info: chromedriver=2.41.578737 (49da6702b16031c40d63e5618de03a32ff6c197e),platform=Windows NT 10.0.18362 x86_64)\n"
     ]
    }
   ],
   "source": [
    "#logging in\n",
    "ig_login = 'https://www.instagram.com'\n",
    "driver = webdriver.Chrome(executable_path=\"chromedriver/windows/chromedriver.exe\")\n",
    "sleep(2)\n",
    "driver.get(ig_login)\n",
    "sleep(3)\n",
    "\n",
    "user_space = driver.find_element_by_name('username')\n",
    "user_space.send_keys(g_creds['username'])\n",
    "pass_space = driver.find_element_by_name('password')\n",
    "pass_space.send_keys(g_creds['password'])\n",
    "\n",
    "button = driver.find_element_by_xpath('//*[@id=\"react-root\"]/section/main/article/div[2]/div[1]/div/form/div[4]/button/div')\n",
    "button.click()\n",
    "sleep(5)\n",
    "\n",
    "home_button = driver.find_element_by_xpath('//*[@id=\"react-root\"]/section/nav/div[2]/div/div/div[3]/div/div[1]/div/a')\n",
    "home_button.click()\n",
    "sleep(2)\n",
    "\n",
    "not_now_lg = driver.find_element_by_xpath('/html/body/div[4]/div/div/div/div[3]/button[2]')\n",
    "not_now_lg.click()\n",
    "\n",
    "#finding a specific hashtag\n",
    "search_word = driver.get('https://www.instagram.com/explore/tags/' + #random.choice(hashtags) \n",
    "                         'puppies' + '/')\n",
    "sleep(4)\n",
    "\n",
    "first_sq = driver.find_element_by_xpath('//*[@id=\"react-root\"]/section/main/article/div[1]/div/div/div[1]/div[1]/a')\n",
    "sleep(2)\n",
    "first_sq.click()\n",
    "sleep(2)\n",
    "\n",
    "# driver.find_element_by_xpath(\"//span[@class='fr66n']\").click() #like photo\n",
    "# sleep(randint(2,6))\n",
    "\n",
    "# comment_box = driver.find_element_by_class_name('Ypffh')\n",
    "\n",
    "for i in range(6):\n",
    "    driver.find_element_by_xpath(\"//span[@class='fr66n']\").click() #like photo\n",
    "    sleep(randint(2,6))\n",
    "    #comment box\n",
    "    try:\n",
    "        comment_box = driver.find_element_by_class_name('Ypffh')\n",
    "        comment_box.click()\n",
    "        sleep(2)\n",
    "        comment_box = driver.find_element_by_class_name('Ypffh') #learned this trick from stackoverflow\n",
    "        comment_box.send_keys(random.choice(comment_list)) #random comment from list\n",
    "        sleep(3)\n",
    "        post_com = driver.find_element_by_xpath('/html/body/div[4]/div[2]/div/article/div[2]/section[3]/div/form/button') #submit comment\n",
    "        post_com.click()\n",
    "        sleep(2)\n",
    "        #grabbing username\n",
    "        username = driver.find_element_by_xpath('/html/body/div[4]/div[2]/div/article/header/div[2]/div[1]/div[1]/div/a').text\n",
    "        print(username)\n",
    "        liked_usernames.append(username)\n",
    "        sleep(randint(2,6))\n",
    "    except:\n",
    "        #grabbing username\n",
    "        driver.find_element_by_link_text('Next').click()\n",
    "        sleep(randint(2,6))"
   ]
  },
  {
   "cell_type": "code",
   "execution_count": 29,
   "metadata": {},
   "outputs": [
    {
     "data": {
      "text/plain": [
       "[]"
      ]
     },
     "execution_count": 29,
     "metadata": {},
     "output_type": "execute_result"
    }
   ],
   "source": [
    "liked_usernames"
   ]
  },
  {
   "cell_type": "code",
   "execution_count": null,
   "metadata": {},
   "outputs": [],
   "source": [
    "for i in range(6):\n",
    "    driver.find_element_by_xpath(\"//span[@class='fr66n']\").click() #like photo\n",
    "    sleep(randint(2,6))\n",
    "    #comment box\n",
    "    try:\n",
    "        comment_box = driver.find_element_by_class_name('Ypffh')\n",
    "        comment_box.click()\n",
    "        sleep(2)\n",
    "        comment_box = driver.find_element_by_class_name('Ypffh') #learned this trick from stackoverflow\n",
    "        comment_box.send_keys(random.choice(comment_list)) #random comment from list\n",
    "        sleep(3)\n",
    "        post_com = driver.find_element_by_xpath('/html/body/div[4]/div[2]/div/article/div[2]/section[3]/div/form/button' #submit comment\n",
    "        post_com.click()\n",
    "        sleep(2)\n",
    "        #grabbing username\n",
    "        username = driver.find_element_by_xpath('/html/body/div[4]/div[2]/div/article/header/div[2]/div[1]/div[1]/div/a').text\n",
    "        print(username)\n",
    "        liked_usernames.append(username)\n",
    "        sleep(randint(2,6))\n",
    "    except:\n",
    "        #grabbing username\n",
    "        driver.find_element_by_link_text('Next').click()\n",
    "        sleep(randint(2,6))"
   ]
  },
  {
   "cell_type": "markdown",
   "metadata": {},
   "source": [
    "Notes:\n",
    "- Next steps:\n",
    "- follow each account\n",
    "- Make a list of user photos that we have liked. \n",
    "- Attempt to follow each account, grab that usename, and put it in a list.\n",
    "- the goal is to take the liked usernames list and combine it with a second column that will be the designated username\n",
    "\n",
    "Stretch goals:\n",
    "- keep track of each user where we liked their photo and the hashtag that was associated with that liked photo. \n",
    "\n",
    "\n",
    "Things to work through:\n",
    "- some posts do not allow comments. The error thrown is \"NoSuchElementException: Message: no such element: Unable to locate element: {\"method\":\"class name\",\"selector\":\"Ypffh\"}\n",
    "  (Session info: chrome=83.0.4103.116)\n",
    "  (Driver info: chromedriver=2.41.578737 (49da6702b16031c40d63e5618de03a32ff6c197e),platform=Windows NT 10.0.18362 x86_64)\"\n",
    "  - we will have to make a try/except statement to fix this issue\n",
    "Part of the function will (1) follow each user where we liked their photos, (2) add that user photo to a list where we will track the username and the hashtag associated with that like. This can be used for a future project. \n",
    "\n",
    "\n",
    "More to add to the code:\n",
    "- write a script that will track the number of followers in the main account that is being used as a bot. We can check \n",
    "    - the number of followers everyday\n",
    "    - the list of followers that I have. Check that list everyday to determine how many new followers (new usernames) are there and how many followers were lost (names in the list before but werent in the list during the scrape)\n",
    "    \n",
    "    \n",
    "Fun things to check:\n",
    "- mean likes per hashtag\n",
    "- posts with the highest metrics\n",
    "- If decided to follow accounts, keep a list of the usernames. I can also create a dictionary to determine how many times an account should be followered"
   ]
  },
  {
   "cell_type": "code",
   "execution_count": null,
   "metadata": {},
   "outputs": [],
   "source": [
    "#future loop for hashtags\n",
    "hashtags = ['banana', 'recipies', 'shoes', 'mua', 'thirdeye', 'buddha', 'coding', 'cooking', 'gardens', 'dogs',\n",
    "              'gym', 'workouts', 'sprinting', 'trackandfield', 'running']\n",
    "for tags in hashtags:\n",
    "    search_word = driver.get('https://www.instagram.com/explore/tags/' + tags + '/')\n",
    "    #put rest of code here\n",
    "    \n",
    "    #creating dataframe \n",
    "    "
   ]
  },
  {
   "cell_type": "markdown",
   "metadata": {},
   "source": [
    "Additional functionality to consider\n",
    "- Commenting\n",
    "    - Count how many comments are on a post - so you don't really comment on every photo. make it random. \n",
    "    - Get the number of total comments in a post\n",
    "    - Get everone in the commenter list - see which users comment the most\n",
    "    \n",
    "- User collection\n",
    "    - get the users who liked the post.\n",
    "    "
   ]
  },
  {
   "cell_type": "code",
   "execution_count": null,
   "metadata": {},
   "outputs": [],
   "source": [
    "# #looking at span\n",
    "# button_like = driver.find_element_by_xpath(\"//span[@class='fr66n']\")\n",
    "# button_like.click()"
   ]
  },
  {
   "cell_type": "markdown",
   "metadata": {},
   "source": [
    "Note:\n",
    "- When clicking through photos, the find element by xpath method is great for the first click, but once it goes to the second photo, that same xpath then represents the left arrow button which would go to the first photo"
   ]
  },
  {
   "cell_type": "code",
   "execution_count": null,
   "metadata": {},
   "outputs": [],
   "source": [
    "#finding a specific hashtag\n",
    "search_word = driver.get('https://www.instagram.com/explore/tags/' + 'running' + '/')\n",
    "sleep(4)\n",
    "\n",
    "\n",
    "first_sq = driver.find_element_by_xpath('//*[@id=\"react-root\"]/section/main/article/div[1]/div/div/div[1]/div[1]/a')\n",
    "sleep(2)\n",
    "first_sq.click()\n",
    "next_arrow = driver.find_element_by_xpath('/html/body/div[4]/div[1]/div/div/a')\n",
    "sleep(2)\n",
    "next_arrow.click()"
   ]
  },
  {
   "cell_type": "code",
   "execution_count": null,
   "metadata": {},
   "outputs": [],
   "source": [
    "#scrolling - this executes it 3 times in a row to create more space on elements on the page\n",
    "#find the body element to send keys to\n",
    "body_elem = driver.find_element_by_tag_name('body')\n",
    "#move up and down to load new images -\n",
    "for _ in range(3):\n",
    "    body_elem.send_keys(Keys.END)\n",
    "    sleep(2)\n",
    "    body_elem.send_keys(Keys.HOME)\n",
    "    sleep(2)"
   ]
  },
  {
   "cell_type": "code",
   "execution_count": 42,
   "metadata": {},
   "outputs": [],
   "source": [
    "hashtag_one = 'adidasrunners'"
   ]
  },
  {
   "cell_type": "code",
   "execution_count": null,
   "metadata": {},
   "outputs": [],
   "source": [
    "hashtagsearch = 'https://www.instagram.com/explore/tags/' + hashtag_one\n",
    "driver.get(hashtagsearch)"
   ]
  },
  {
   "cell_type": "code",
   "execution_count": null,
   "metadata": {},
   "outputs": [],
   "source": [
    "search_bar = driver.find_element_by_placeholder('Search')\n",
    "search_bar.send_keys(hashtag_one)"
   ]
  }
 ],
 "metadata": {
  "kernelspec": {
   "display_name": "Python 3",
   "language": "python",
   "name": "python3"
  },
  "language_info": {
   "codemirror_mode": {
    "name": "ipython",
    "version": 3
   },
   "file_extension": ".py",
   "mimetype": "text/x-python",
   "name": "python",
   "nbconvert_exporter": "python",
   "pygments_lexer": "ipython3",
   "version": "3.7.4"
  }
 },
 "nbformat": 4,
 "nbformat_minor": 2
}
